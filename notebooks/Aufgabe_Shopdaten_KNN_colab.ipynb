{
  "nbformat": 4,
  "nbformat_minor": 0,
  "metadata": {
    "colab": {
      "name": "Aufgabe Shopdaten KNN.ipynb",
      "version": "0.3.2",
      "provenance": [],
      "include_colab_link": true
    },
    "kernelspec": {
      "name": "python3",
      "display_name": "Python 3"
    },
    "accelerator": "TPU"
  },
  "cells": [
    {
      "cell_type": "markdown",
      "metadata": {
        "id": "view-in-github",
        "colab_type": "text"
      },
      "source": [
        "<a href=\"https://colab.research.google.com/github/marianfoo/ShopDataML/blob/master/notebooks/Aufgabe_Shopdaten_KNN_colab.ipynb\" target=\"_parent\"><img src=\"https://colab.research.google.com/assets/colab-badge.svg\" alt=\"Open In Colab\"/></a>"
      ]
    },
    {
      "metadata": {
        "id": "8fBkTeH_f1So",
        "colab_type": "text"
      },
      "cell_type": "markdown",
      "source": [
        "# Relevante Bibliotheken importieren"
      ]
    },
    {
      "metadata": {
        "id": "FB-iRirIf1Sp",
        "colab_type": "text"
      },
      "cell_type": "markdown",
      "source": [
        "- transact_train   = Transaktionsdaten zum trainieren\n",
        "- transact_class   = aktuelle Transaktionsdaten zum testen\n",
        "- realclass_t1     = \"Lösung\" der transact_class ob Käufer oder nicht"
      ]
    },
    {
      "metadata": {
        "id": "LPmP6Oe1f1Sr",
        "colab_type": "code",
        "colab": {}
      },
      "cell_type": "code",
      "source": [
        "import pandas as pd\n",
        "import numpy as np\n",
        "import matplotlib.pyplot as plt\n",
        "import numpy as np\n",
        "from sklearn.ensemble import ExtraTreesClassifier\n",
        "from sklearn.feature_selection import SelectKBest\n",
        "from sklearn.feature_selection import chi2\n",
        "import matplotlib.pyplot as plt\n",
        "%matplotlib inline\n",
        "from sklearn.neighbors import KNeighborsClassifier\n",
        "from sklearn.svm import SVC\n",
        "from sklearn.naive_bayes import GaussianNB, BernoulliNB, MultinomialNB\n",
        "from sklearn import metrics\n",
        "from sklearn.linear_model import LogisticRegression\n",
        "import seaborn as sns"
      ],
      "execution_count": 0,
      "outputs": []
    },
    {
      "metadata": {
        "id": "l_CQz5JKf1Sx",
        "colab_type": "text"
      },
      "cell_type": "markdown",
      "source": [
        "# Methoden für den Import der vorbereiteten Daten"
      ]
    },
    {
      "metadata": {
        "id": "GjjWPJ8RtiVF",
        "colab_type": "text"
      },
      "cell_type": "markdown",
      "source": [
        "get_test_data: splittet die \"order\" Spalte von den Test und Trainingsdaten\n",
        "\n",
        "import_data_colab: liest die daten vom Pfad, setzt Session No als Index und sortiert nach Session No\n",
        "\n",
        "get_all_data_colab: für jeden fill_modes gibt es vier versch. Anzahl an Spalten, über diese wird iteriert und alle Dateien aus dem GitHub geholt und ein einem Dictionary gespeichert\n"
      ]
    },
    {
      "metadata": {
        "id": "PHxWR2ajgDZT",
        "colab_type": "code",
        "colab": {}
      },
      "cell_type": "code",
      "source": [
        "def get_test_data(train_df,test_df):\n",
        "    X_train = train_df.iloc[:, :train_df.shape[1] - 1]\n",
        "    X_test = test_df.iloc[:, :test_df.shape[1] - 1]\n",
        "    y_train = train_df['order']\n",
        "    y_test  = test_df['order']\n",
        "    return X_train, X_test, y_train, y_test\n",
        "def import_data_colab(path):\n",
        "    df = pd.read_csv(path)\n",
        "    df.set_index('sessionNo', inplace=True)\n",
        "    df.sort_index(inplace=True)\n",
        "    return df\n",
        "def get_all_data_colab():\n",
        "    columns_data = ['X_train_','X_test_','y_train_','y_test_']\n",
        "    fill_modes = ['mean','mode','median']\n",
        "    column_count = [5,10,15,20]\n",
        "    new_dict = {}\n",
        "\n",
        "    for fill_mode in fill_modes:\n",
        "        for count in column_count:\n",
        "            filename_base = 'https://raw.githubusercontent.com/marianfoo/ShopDataML/master/data/'\n",
        "            filename_2 = filename_base + 'train' + '_' + fill_mode + '_' + str(count) + '.csv'\n",
        "            train_file = import_data_colab(filename_2)\n",
        "            filename_2 = filename_base + 'class' + '_' + fill_mode + '_' + str(count) + '.csv'\n",
        "            class_file = import_data_colab(filename_2)\n",
        "            X_train, X_test, y_train, y_test = get_test_data(train_file,class_file)\n",
        "            new_dict[fill_mode + '_' + str(count)] = {\n",
        "                'X_train':X_train,\n",
        "                'X_test':X_test,\n",
        "                'y_train':y_train,\n",
        "                'y_test':y_test\n",
        "            }\n",
        "    return new_dict\n",
        "def predictionScorekNN(data):\n",
        "  knn_model = KNeighborsClassifier(n_neighbors=23)\n",
        "  knn_model.fit(data['X_train'], data['y_train'])\n",
        "  prediction_knn = knn_model.predict(data['X_test'])\n",
        "  return knn_model.score(data['X_test'], data['y_test'])*100"
      ],
      "execution_count": 0,
      "outputs": []
    },
    {
      "metadata": {
        "id": "236qgrsQf1TE",
        "colab_type": "text"
      },
      "cell_type": "markdown",
      "source": [
        "# K nearest neighbor"
      ]
    },
    {
      "metadata": {
        "id": "4gg44vMcW16g",
        "colab_type": "text"
      },
      "cell_type": "markdown",
      "source": [
        "### get all data"
      ]
    },
    {
      "metadata": {
        "id": "d2ohVck7uKxs",
        "colab_type": "text"
      },
      "cell_type": "markdown",
      "source": [
        "rufe die Methode auf um alle Test- und Trainingsdaten zu holen"
      ]
    },
    {
      "metadata": {
        "id": "exG9Edv2f1TI",
        "colab_type": "code",
        "colab": {}
      },
      "cell_type": "code",
      "source": [
        "data_knn = get_all_data_colab()"
      ],
      "execution_count": 0,
      "outputs": []
    },
    {
      "metadata": {
        "id": "kLIQWcWVW5M_",
        "colab_type": "text"
      },
      "cell_type": "markdown",
      "source": [
        "### group all the data by session number"
      ]
    },
    {
      "metadata": {
        "id": "RhS1bk-yuQOZ",
        "colab_type": "text"
      },
      "cell_type": "markdown",
      "source": [
        "gruppieren alle Spalten anhand der Session No und nehme immer die höchste Zahl"
      ]
    },
    {
      "metadata": {
        "id": "OP-NW4SGVuU4",
        "colab_type": "code",
        "colab": {}
      },
      "cell_type": "code",
      "source": [
        "for key, value in data_knn.items():\n",
        "  xtrain = value['X_train']\n",
        "  ytrain = value['y_train']\n",
        "  xtest = value['X_test']\n",
        "  ytest = value['y_test']\n",
        "  value['X_train'] = xtrain.groupby(xtrain.index).max()\n",
        "  value['y_train'] = ytrain.groupby(ytrain.index).max()\n",
        "  value['X_test'] = xtest.groupby(xtest.index).max()\n",
        "  value['y_test'] = ytest.groupby(ytest.index).max()"
      ],
      "execution_count": 0,
      "outputs": []
    },
    {
      "metadata": {
        "id": "0IEKEeMof1TQ",
        "colab_type": "text"
      },
      "cell_type": "markdown",
      "source": [
        "## Spalten visualisieren"
      ]
    },
    {
      "metadata": {
        "id": "hdUxy7z4lOC9",
        "colab_type": "text"
      },
      "cell_type": "markdown",
      "source": [
        "### Daten ggf. runterskalieren"
      ]
    },
    {
      "metadata": {
        "id": "AWZ9ohanucvu",
        "colab_type": "text"
      },
      "cell_type": "markdown",
      "source": [
        "sollte die Berechnung gewisser Vorgänge länger dauern, wäre es möglich mit dieser Methode die Anzahl der Datensätze zu reduzieren"
      ]
    },
    {
      "metadata": {
        "id": "hArfX1E8f1TT",
        "colab_type": "code",
        "colab": {}
      },
      "cell_type": "code",
      "source": [
        "def down_size_data(factor, df):\n",
        "    print('Shape of dataframe before down sizing with factor' + str(factor) +':' + str(df.shape))\n",
        "    sampleSize = int(len(df.index) * factor)\n",
        "    df = df.sample(sampleSize,random_state=0)\n",
        "    print('Shape of dataframe after down sizing with factor' + str(factor) + ':' + str(df.shape))\n",
        "    return df"
      ],
      "execution_count": 0,
      "outputs": []
    },
    {
      "metadata": {
        "id": "48g7PqFEf1TY",
        "colab_type": "code",
        "outputId": "0d342573-c95c-4c86-db84-bd952a44200a",
        "colab": {
          "base_uri": "https://localhost:8080/",
          "height": 51
        }
      },
      "cell_type": "code",
      "source": [
        "data_median_5_plot_X = data_knn['median_5']['X_train']\n",
        "data_median_5_plot_y = data_knn['median_5']['y_train']\n",
        "data_median_5_plot_m = data_median_5_plot_X.merge(data_median_5_plot_y.to_frame(), left_index=True, right_index=True)\n",
        "data_median_5_plot_m = down_size_data(0.01,data_median_5_plot_m)"
      ],
      "execution_count": 6,
      "outputs": [
        {
          "output_type": "stream",
          "text": [
            "Shape of dataframe before down sizing with factor0.01:(50000, 6)\n",
            "Shape of dataframe after down sizing with factor0.01:(500, 6)\n"
          ],
          "name": "stdout"
        }
      ]
    },
    {
      "metadata": {
        "id": "HWnZRLcYljQ3",
        "colab_type": "text"
      },
      "cell_type": "markdown",
      "source": [
        "### Pairplot mit order und 5 Spalten"
      ]
    },
    {
      "metadata": {
        "id": "Ri4XvJlvumpu",
        "colab_type": "text"
      },
      "cell_type": "markdown",
      "source": [
        "dieser Plot zeigt die Statistiken mit allen fünf Spalten in Bezug auf der \"order\" Spalte"
      ]
    },
    {
      "metadata": {
        "id": "XUHgVIDsf1Tf",
        "colab_type": "code",
        "outputId": "8be86c7f-54ce-4522-fa4b-4cc57bcd33fb",
        "colab": {
          "base_uri": "https://localhost:8080/",
          "height": 1102
        }
      },
      "cell_type": "code",
      "source": [
        "sns.pairplot(data_median_5_plot_m,hue='order',palette='coolwarm')"
      ],
      "execution_count": 7,
      "outputs": [
        {
          "output_type": "execute_result",
          "data": {
            "text/plain": [
              "<seaborn.axisgrid.PairGrid at 0x7fa17592b9e8>"
            ]
          },
          "metadata": {
            "tags": []
          },
          "execution_count": 7
        },
        {
          "output_type": "display_data",
          "data": {
            "image/png": "[encoded data removed]",
            "text/plain": [
              "<matplotlib.figure.Figure at 0x7fa1953f3278>"
            ]
          },
          "metadata": {
            "tags": []
          }
        }
      ]
    },
    {
      "metadata": {
        "id": "TO_8mVWUf1Tm",
        "colab_type": "text"
      },
      "cell_type": "markdown",
      "source": [
        "# Variablen standardisieren"
      ]
    },
    {
      "metadata": {
        "id": "fxby6_pJf1To",
        "colab_type": "text"
      },
      "cell_type": "markdown",
      "source": [
        "### über alle Testdaten iterieren"
      ]
    },
    {
      "metadata": {
        "id": "njJwHlu5f1Tp",
        "colab_type": "code",
        "colab": {}
      },
      "cell_type": "code",
      "source": [
        "from sklearn.preprocessing import StandardScaler\n",
        "for key, value in data_knn.items():\n",
        "    scaler_knn = StandardScaler()\n",
        "    scaler_knn.fit(value['X_train'])\n",
        "    scaled_features = scaler_knn.transform(value['X_train'])\n",
        "    df_feat = pd.DataFrame(scaled_features,columns=value['X_train'].columns)"
      ],
      "execution_count": 0,
      "outputs": []
    },
    {
      "metadata": {
        "id": "Wam9iUdDf1UT",
        "colab_type": "text"
      },
      "cell_type": "markdown",
      "source": [
        "## Iterating over couple of n_neighbors to test error rate"
      ]
    },
    {
      "metadata": {
        "id": "1k8OdMiiv3m1",
        "colab_type": "text"
      },
      "cell_type": "markdown",
      "source": [
        "iterieren mit verschieden k Werten"
      ]
    },
    {
      "metadata": {
        "id": "8o4N_MhiYRp6",
        "colab_type": "code",
        "colab": {}
      },
      "cell_type": "code",
      "source": [
        "dataset = 'mean_10'\n",
        "\n",
        "xtrain = data_knn[dataset]['X_train']\n",
        "ytrain = data_knn[dataset]['y_train']\n",
        "xtest = data_knn[dataset]['X_test']\n",
        "ytest = data_knn[dataset]['y_test']"
      ],
      "execution_count": 0,
      "outputs": []
    },
    {
      "metadata": {
        "id": "NWnrOyvNwGUY",
        "colab_type": "text"
      },
      "cell_type": "markdown",
      "source": [
        "iteriere über alle Werte zwischen 1 und 80"
      ]
    },
    {
      "metadata": {
        "id": "VvCTpkbif1UU",
        "colab_type": "code",
        "colab": {}
      },
      "cell_type": "code",
      "source": [
        "error_rate = []\n",
        "\n",
        "\n",
        "# Will take some time\n",
        "for i in range(1,80):\n",
        "    \n",
        "    knn_loop = KNeighborsClassifier(n_neighbors=i)\n",
        "    knn_loop.fit(xtrain_mean10_group,ytrain_mean10_group)\n",
        "    prediciton_knn_i = knn_loop.predict(xtest_mean10_group)\n",
        "    error_rate.append(np.mean(prediciton_knn_i != ytest_mean10_group))\n",
        "    print(i, flush=True)"
      ],
      "execution_count": 0,
      "outputs": []
    },
    {
      "metadata": {
        "id": "vavkWKL2wMGp",
        "colab_type": "text"
      },
      "cell_type": "markdown",
      "source": [
        "das Ergebniss grafisch darstellen"
      ]
    },
    {
      "metadata": {
        "id": "qc0XyG1Rf1UY",
        "colab_type": "code",
        "outputId": "45556e8b-06e4-4a7f-dc93-8feb6dff299a",
        "colab": {
          "base_uri": "https://localhost:8080/",
          "height": 581
        }
      },
      "cell_type": "code",
      "source": [
        "plt.figure(figsize=(10,6))\n",
        "plt.plot(range(1,80),error_rate,color='blue', linestyle='dashed', marker='o',\n",
        "         markerfacecolor='red', markersize=10)\n",
        "plt.title('Error Rate vs. K Value')\n",
        "plt.xlabel('K')\n",
        "plt.ylabel('Error Rate')"
      ],
      "execution_count": 117,
      "outputs": [
        {
          "output_type": "execute_result",
          "data": {
            "text/plain": [
              "Text(0,0.5,'Error Rate')"
            ]
          },
          "metadata": {
            "tags": []
          },
          "execution_count": 117
        },
        {
          "output_type": "display_data",
          "data": {
            "image/png": "[encoded data removed]",
            "text/plain": [
              "<matplotlib.figure.Figure at 0x7f4212b6e9e8>"
            ]
          },
          "metadata": {
            "tags": []
          }
        }
      ]
    },
    {
      "metadata": {
        "id": "cuuizh2Jf1Tt",
        "colab_type": "text"
      },
      "cell_type": "markdown",
      "source": [
        "## KNN mit allen Testdateien tranieren und testen"
      ]
    },
    {
      "metadata": {
        "id": "SKIN9PhIuwh1",
        "colab_type": "text"
      },
      "cell_type": "markdown",
      "source": [
        "mit kNN alle Datensatz Varianten trainieren und testen\n"
      ]
    },
    {
      "metadata": {
        "id": "4tuxJ0gxVc9f",
        "colab_type": "code",
        "colab": {}
      },
      "cell_type": "code",
      "source": [
        "from sklearn.neighbors import KNeighborsClassifier\n",
        "models_knn = {}\n",
        "for key, value in data_knn.items():\n",
        "    knn_model = KNeighborsClassifier(n_neighbors=37)\n",
        "    knn_model.fit(value['X_train'], value['y_train'])\n",
        "    prediction_knn = knn_model.predict(value['X_test'])\n",
        "    models_knn[key] = [knn_model,prediction_knn]"
      ],
      "execution_count": 0,
      "outputs": []
    },
    {
      "metadata": {
        "id": "ypwcNNnpf1T0",
        "colab_type": "code",
        "colab": {}
      },
      "cell_type": "code",
      "source": [
        "index_data_knn = []\n",
        "column_data_knn = []\n",
        "for key, value in models_knn.items():\n",
        "    index_data_knn.append(key)\n",
        "    column_data_knn.append(value[0].score(data_knn[key]['X_test'], data_knn[key]['y_test'])*100)\n"
      ],
      "execution_count": 0,
      "outputs": []
    },
    {
      "metadata": {
        "id": "gbJgw9cPy6go",
        "colab_type": "text"
      },
      "cell_type": "markdown",
      "source": [
        "panda Dataframe mit Datensatzname und Performance des Datensatzes mit kNN"
      ]
    },
    {
      "metadata": {
        "id": "NaYbk5Rkf1T5",
        "colab_type": "code",
        "colab": {}
      },
      "cell_type": "code",
      "source": [
        "df_data_knn = pd.DataFrame(index=index_data_knn, data=column_data_knn)\n",
        "df_data_knn.columns = [\"performance\"]\n",
        "df_data_knn.sort_values(by=\"performance\", ascending=True, inplace=True)"
      ],
      "execution_count": 0,
      "outputs": []
    },
    {
      "metadata": {
        "id": "bOi4verUzBPh",
        "colab_type": "text"
      },
      "cell_type": "markdown",
      "source": [
        "Ergebniss grafisch darstellen"
      ]
    },
    {
      "metadata": {
        "id": "jXnMlxROf1T9",
        "colab_type": "code",
        "outputId": "771fdd2c-135b-4d41-8ea7-ea30f19ad8ea",
        "colab": {
          "base_uri": "https://localhost:8080/",
          "height": 472
        }
      },
      "cell_type": "code",
      "source": [
        "objects = df_data_knn.index.values\n",
        "y_pos = np.arange(len(objects))\n",
        "performance = df_data_knn.iloc[:,0]\n",
        "\n",
        "plt.barh(y_pos, performance, align='center', alpha=0.8,left=0)\n",
        "plt.xlim(performance.min()-2, performance.max()+2)\n",
        "plt.yticks(y_pos, objects)\n",
        "plt.xlabel('Performance')\n",
        "plt.title('Performance of KNN')\n",
        "\n",
        "plt.show()"
      ],
      "execution_count": 114,
      "outputs": [
        {
          "output_type": "display_data",
          "data": {
            "image/png": "[encoded data removed]",
            "text/plain": [
              "<matplotlib.figure.Figure at 0x7f4212c25860>"
            ]
          },
          "metadata": {
            "tags": []
          }
        }
      ]
    },
    {
      "metadata": {
        "id": "ZURE8v3cvuMr",
        "colab_type": "code",
        "colab": {
          "base_uri": "https://localhost:8080/",
          "height": 34
        },
        "outputId": "176f53d5-fd7b-4d9f-f094-20840cf20cd8"
      },
      "cell_type": "code",
      "source": [
        "predictionScorekNN(data_knn['mean_10'])"
      ],
      "execution_count": 115,
      "outputs": [
        {
          "output_type": "execute_result",
          "data": {
            "text/plain": [
              "86.79319115632948"
            ]
          },
          "metadata": {
            "tags": []
          },
          "execution_count": 115
        }
      ]
    },
    {
      "metadata": {
        "id": "lTxMtjVyf1Ud",
        "colab_type": "text"
      },
      "cell_type": "markdown",
      "source": [
        "## Wahrscheinlichkeit mit den am besten performenden Testdaten"
      ]
    },
    {
      "metadata": {
        "id": "zZ3m_z5Sf1Uf",
        "colab_type": "code",
        "colab": {}
      },
      "cell_type": "code",
      "source": [
        "from sklearn.neighbors import KNeighborsClassifier\n",
        "knn_model_mean_10 = KNeighborsClassifier(n_neighbors=36)\n",
        "knn_model_mean_10.fit(xtrain, ytrain)\n",
        "prediction_knn_mean_10 = knn_model_mean_10.predict(xtrain)\n",
        "performance_knn_mean_10 = knn_model_mean_10.score(xtest, ytest)*100"
      ],
      "execution_count": 0,
      "outputs": []
    },
    {
      "metadata": {
        "colab_type": "code",
        "id": "8DI_0tjlztw-",
        "colab": {
          "base_uri": "https://localhost:8080/",
          "height": 34
        },
        "outputId": "f67a09f9-638a-4676-af9d-37e59c155176"
      },
      "cell_type": "code",
      "source": [
        "knn_model_mean_10.score(xtest, ytest)*100"
      ],
      "execution_count": 8,
      "outputs": [
        {
          "output_type": "execute_result",
          "data": {
            "text/plain": [
              "87.26276658188222"
            ]
          },
          "metadata": {
            "tags": []
          },
          "execution_count": 8
        }
      ]
    },
    {
      "metadata": {
        "id": "DiNSA8WdrpwS",
        "colab_type": "text"
      },
      "cell_type": "markdown",
      "source": [
        "Wahrscheinlichkeit ob 0 oder 1 ausrechnen lassen"
      ]
    },
    {
      "metadata": {
        "scrolled": true,
        "colab_type": "code",
        "id": "vre3GTmMzskV",
        "colab": {}
      },
      "cell_type": "code",
      "source": [
        "predict_proba_knn_mean_10 = knn_model_mean_10.predict_proba(xtest)"
      ],
      "execution_count": 0,
      "outputs": []
    },
    {
      "metadata": {
        "id": "fLt0zX91r4fQ",
        "colab_type": "text"
      },
      "cell_type": "markdown",
      "source": [
        "loss und win arrays in panda Serien umwandeln"
      ]
    },
    {
      "metadata": {
        "id": "uNo4B2wNf1VF",
        "colab_type": "code",
        "colab": {}
      },
      "cell_type": "code",
      "source": [
        "loss_ndarray = predict_proba_knn_mean_10[...,:1]\n",
        "win_ndarray = predict_proba_knn_mean_10[...,1:]\n",
        "my_list_test = map(lambda x: x[0], loss_ndarray)\n",
        "loss_series = pd.Series(my_list_test)\n",
        "my_list_test = map(lambda x: x[0], win_ndarray)\n",
        "win_series = pd.Series(my_list_test)"
      ],
      "execution_count": 0,
      "outputs": []
    },
    {
      "metadata": {
        "id": "usFzuRBfsY6u",
        "colab_type": "text"
      },
      "cell_type": "markdown",
      "source": [
        "panda Serien mit Session No kombinieren und nach Session No sortieren"
      ]
    },
    {
      "metadata": {
        "id": "X4_yLLKJf1VM",
        "colab_type": "code",
        "colab": {}
      },
      "cell_type": "code",
      "source": [
        "knn_probability_df = pd.DataFrame({'buy_proba': win_series, 'not_buy_proba': loss_series},index=data_knn[dataset]['X_test'].index)\n",
        "knn_probability_df = knn_probability_df.sort_index()"
      ],
      "execution_count": 0,
      "outputs": []
    },
    {
      "metadata": {
        "id": "0TWjhfkd8mC8",
        "colab_type": "text"
      },
      "cell_type": "markdown",
      "source": [
        "Ergebnis in csv speichern und runterladen"
      ]
    },
    {
      "metadata": {
        "id": "8NvDUiPL6bGF",
        "colab_type": "code",
        "colab": {}
      },
      "cell_type": "code",
      "source": [
        "\n",
        "final_result = knn_probability_df_group.drop(\"not_buy_proba\", axis=1)\n",
        "final_result = final_result.rename(columns={\"buy_proba\": \"Vorhersage\"})\n",
        "final_result_csv = final_result.to_csv(\"final_result\", sep=';', encoding='utf-8')\n",
        "final_result"
      ],
      "execution_count": 0,
      "outputs": []
    },
    {
      "metadata": {
        "id": "0UEJJr-77wdj",
        "colab_type": "code",
        "colab": {}
      },
      "cell_type": "code",
      "source": [
        "import base64\n",
        "import pandas as pd\n",
        "from IPython.display import HTML\n",
        "\n",
        "def create_download_link( df, title = \"Download CSV file\", filename = \"data.csv\"):\n",
        "    csv = df.to_csv()\n",
        "    b64 = base64.b64encode(csv.encode())\n",
        "    payload = b64.decode()\n",
        "    html = '<a download=\"{filename}\" href=\"data:text/csv;base64,{payload}\" target=\"_blank\">{title}</a>'\n",
        "    html = html.format(payload=payload,title=title,filename=filename)\n",
        "    return HTML(html)\n",
        "\n",
        "create_download_link(final_result)"
      ],
      "execution_count": 0,
      "outputs": []
    },
    {
      "metadata": {
        "id": "XJM9IMyrsiCF",
        "colab_type": "text"
      },
      "cell_type": "markdown",
      "source": [
        "Gruppieren nach Session No (max/min hat keine Auswirkung, da alles Werte innerhalb einer Session gleich sind)"
      ]
    },
    {
      "metadata": {
        "id": "heaRUdSIf1VQ",
        "colab_type": "code",
        "colab": {}
      },
      "cell_type": "code",
      "source": [
        "knn_probability_df_group = knn_probability_df.groupby(knn_probability_df.index).max()"
      ],
      "execution_count": 0,
      "outputs": []
    },
    {
      "metadata": {
        "id": "t-T0_Bk2stxo",
        "colab_type": "text"
      },
      "cell_type": "markdown",
      "source": [
        "Anteil derjenigen die eine Vorhersagewarhscheinlichkeit von 100% haben, ist dieser Anteil zu hoch, ist ein overfitting wahrscheinlich"
      ]
    },
    {
      "metadata": {
        "id": "1hMXe9JLtXNt",
        "colab_type": "code",
        "outputId": "3a1e0626-9783-4e8e-fff3-9b8485cb8b9e",
        "colab": {
          "base_uri": "https://localhost:8080/",
          "height": 51
        }
      },
      "cell_type": "code",
      "source": [
        "print(\"Anteil an 100% Kauf Wahrscheinlichkeit\")\n",
        "round(knn_probability_df_group.loc[knn_probability_df_group['buy_proba'] == 1].size / knn_probability_df_group.size,4)"
      ],
      "execution_count": 14,
      "outputs": [
        {
          "output_type": "stream",
          "text": [
            "Anteil an 100% Kauf Wahrscheinlichkeit\n"
          ],
          "name": "stdout"
        },
        {
          "output_type": "execute_result",
          "data": {
            "text/plain": [
              "0.0491"
            ]
          },
          "metadata": {
            "tags": []
          },
          "execution_count": 14
        }
      ]
    },
    {
      "metadata": {
        "id": "h9lIoQshs8-D",
        "colab_type": "text"
      },
      "cell_type": "markdown",
      "source": [
        "die Wahrscheinlichkeiten in 0.05 Abschnitte aufteilen und zählen"
      ]
    },
    {
      "metadata": {
        "id": "1ZB17Ehlf1Vh",
        "colab_type": "code",
        "colab": {}
      },
      "cell_type": "code",
      "source": [
        "knn_probability_df_group = knn_probability_df.groupby(knn_probability_df.index).max()\n",
        "bins_groupby = np.arange(0, 1.000001, 0.05)\n",
        "knn_probability_df_group_bin = knn_probability_df_group.groupby(pd.cut(knn_probability_df_group['buy_proba'],bins_groupby)).count()"
      ],
      "execution_count": 0,
      "outputs": []
    },
    {
      "metadata": {
        "scrolled": true,
        "id": "YGHC1abqf1Vi",
        "colab_type": "code",
        "outputId": "6f20747f-fd3b-4979-e120-fabd28f297b8",
        "colab": {
          "base_uri": "https://localhost:8080/",
          "height": 700
        }
      },
      "cell_type": "code",
      "source": [
        "knn_probability_df_group_bin"
      ],
      "execution_count": 126,
      "outputs": [
        {
          "output_type": "execute_result",
          "data": {
            "text/html": [
              "<div>\n",
              "<style scoped>\n",
              "    .dataframe tbody tr th:only-of-type {\n",
              "        vertical-align: middle;\n",
              "    }\n",
              "\n",
              "    .dataframe tbody tr th {\n",
              "        vertical-align: top;\n",
              "    }\n",
              "\n",
              "    .dataframe thead th {\n",
              "        text-align: right;\n",
              "    }\n",
              "</style>\n",
              "<table border=\"1\" class=\"dataframe\">\n",
              "  <thead>\n",
              "    <tr style=\"text-align: right;\">\n",
              "      <th></th>\n",
              "      <th>buy_proba</th>\n",
              "      <th>not_buy_proba</th>\n",
              "    </tr>\n",
              "    <tr>\n",
              "      <th>buy_proba</th>\n",
              "      <th></th>\n",
              "      <th></th>\n",
              "    </tr>\n",
              "  </thead>\n",
              "  <tbody>\n",
              "    <tr>\n",
              "      <th>(0.0, 0.05]</th>\n",
              "      <td>366</td>\n",
              "      <td>366</td>\n",
              "    </tr>\n",
              "    <tr>\n",
              "      <th>(0.05, 0.1]</th>\n",
              "      <td>277</td>\n",
              "      <td>277</td>\n",
              "    </tr>\n",
              "    <tr>\n",
              "      <th>(0.1, 0.15]</th>\n",
              "      <td>183</td>\n",
              "      <td>183</td>\n",
              "    </tr>\n",
              "    <tr>\n",
              "      <th>(0.15, 0.2]</th>\n",
              "      <td>92</td>\n",
              "      <td>92</td>\n",
              "    </tr>\n",
              "    <tr>\n",
              "      <th>(0.2, 0.25]</th>\n",
              "      <td>172</td>\n",
              "      <td>172</td>\n",
              "    </tr>\n",
              "    <tr>\n",
              "      <th>(0.25, 0.3]</th>\n",
              "      <td>105</td>\n",
              "      <td>105</td>\n",
              "    </tr>\n",
              "    <tr>\n",
              "      <th>(0.3, 0.35]</th>\n",
              "      <td>106</td>\n",
              "      <td>106</td>\n",
              "    </tr>\n",
              "    <tr>\n",
              "      <th>(0.35, 0.4]</th>\n",
              "      <td>70</td>\n",
              "      <td>70</td>\n",
              "    </tr>\n",
              "    <tr>\n",
              "      <th>(0.4, 0.45]</th>\n",
              "      <td>71</td>\n",
              "      <td>71</td>\n",
              "    </tr>\n",
              "    <tr>\n",
              "      <th>(0.45, 0.5]</th>\n",
              "      <td>127</td>\n",
              "      <td>127</td>\n",
              "    </tr>\n",
              "    <tr>\n",
              "      <th>(0.5, 0.55]</th>\n",
              "      <td>46</td>\n",
              "      <td>46</td>\n",
              "    </tr>\n",
              "    <tr>\n",
              "      <th>(0.55, 0.6]</th>\n",
              "      <td>128</td>\n",
              "      <td>128</td>\n",
              "    </tr>\n",
              "    <tr>\n",
              "      <th>(0.6, 0.65]</th>\n",
              "      <td>119</td>\n",
              "      <td>119</td>\n",
              "    </tr>\n",
              "    <tr>\n",
              "      <th>(0.65, 0.7]</th>\n",
              "      <td>225</td>\n",
              "      <td>225</td>\n",
              "    </tr>\n",
              "    <tr>\n",
              "      <th>(0.7, 0.75]</th>\n",
              "      <td>243</td>\n",
              "      <td>243</td>\n",
              "    </tr>\n",
              "    <tr>\n",
              "      <th>(0.75, 0.8]</th>\n",
              "      <td>120</td>\n",
              "      <td>120</td>\n",
              "    </tr>\n",
              "    <tr>\n",
              "      <th>(0.8, 0.85]</th>\n",
              "      <td>216</td>\n",
              "      <td>216</td>\n",
              "    </tr>\n",
              "    <tr>\n",
              "      <th>(0.85, 0.9]</th>\n",
              "      <td>227</td>\n",
              "      <td>227</td>\n",
              "    </tr>\n",
              "    <tr>\n",
              "      <th>(0.9, 0.95]</th>\n",
              "      <td>507</td>\n",
              "      <td>507</td>\n",
              "    </tr>\n",
              "    <tr>\n",
              "      <th>(0.95, 1.0]</th>\n",
              "      <td>574</td>\n",
              "      <td>574</td>\n",
              "    </tr>\n",
              "  </tbody>\n",
              "</table>\n",
              "</div>"
            ],
            "text/plain": [
              "             buy_proba  not_buy_proba\n",
              "buy_proba                            \n",
              "(0.0, 0.05]        366            366\n",
              "(0.05, 0.1]        277            277\n",
              "(0.1, 0.15]        183            183\n",
              "(0.15, 0.2]         92             92\n",
              "(0.2, 0.25]        172            172\n",
              "(0.25, 0.3]        105            105\n",
              "(0.3, 0.35]        106            106\n",
              "(0.35, 0.4]         70             70\n",
              "(0.4, 0.45]         71             71\n",
              "(0.45, 0.5]        127            127\n",
              "(0.5, 0.55]         46             46\n",
              "(0.55, 0.6]        128            128\n",
              "(0.6, 0.65]        119            119\n",
              "(0.65, 0.7]        225            225\n",
              "(0.7, 0.75]        243            243\n",
              "(0.75, 0.8]        120            120\n",
              "(0.8, 0.85]        216            216\n",
              "(0.85, 0.9]        227            227\n",
              "(0.9, 0.95]        507            507\n",
              "(0.95, 1.0]        574            574"
            ]
          },
          "metadata": {
            "tags": []
          },
          "execution_count": 126
        }
      ]
    },
    {
      "metadata": {
        "id": "ZsgguKKZtE2S",
        "colab_type": "text"
      },
      "cell_type": "markdown",
      "source": [
        "die obigen Tabelle grafisch darstellen"
      ]
    },
    {
      "metadata": {
        "id": "dZ-74MLYf1V4",
        "colab_type": "code",
        "outputId": "c6e84431-7f9e-4813-ba13-abc1c1853329",
        "colab": {
          "base_uri": "https://localhost:8080/",
          "height": 511
        }
      },
      "cell_type": "code",
      "source": [
        "import matplotlib.pyplot as plt; plt.rcdefaults()\n",
        "import numpy as np\n",
        "import matplotlib.pyplot as plt\n",
        " \n",
        "objects = knn_probability_df_group_bin.index.values\n",
        "y_pos = np.arange(len(objects))\n",
        "performance = knn_probability_df_group_bin['buy_proba']\n",
        " \n",
        "plt.bar(y_pos, performance, align='center', alpha=0.5)\n",
        "plt.xticks(y_pos, objects,rotation='vertical')\n",
        "plt.ylabel('Usage')\n",
        "plt.title('Buy Probability mean_10 from 0 to 1 in 0-5 bins')\n",
        " \n",
        "plt.show()"
      ],
      "execution_count": 127,
      "outputs": [
        {
          "output_type": "display_data",
          "data": {
            "image/png": "[encoded data removed]",
            "text/plain": [
              "<matplotlib.figure.Figure at 0x7f4212b2ceb8>"
            ]
          },
          "metadata": {
            "tags": []
          }
        }
      ]
    },
    {
      "metadata": {
        "id": "cKgFZIRuYr2G",
        "colab_type": "text"
      },
      "cell_type": "markdown",
      "source": [
        "### Test with different models and mean_10"
      ]
    },
    {
      "metadata": {
        "id": "tP-RAjVXtW6P",
        "colab_type": "text"
      },
      "cell_type": "markdown",
      "source": [
        "dies iteriert über viele versch. Modelle mit den Standartvariablen, mit Optimierung möglichweise mehr erreichbar"
      ]
    },
    {
      "metadata": {
        "id": "k2a_HhKfZezs",
        "colab_type": "code",
        "colab": {}
      },
      "cell_type": "code",
      "source": [
        "#sklearn\n",
        "#from sklearn.cross_validation import train_test_split, cross_val_score\n",
        "from sklearn.metrics import mean_squared_error,confusion_matrix, precision_score, recall_score, auc,roc_curve\n",
        "from sklearn import ensemble, linear_model, neighbors, svm, tree, neural_network\n",
        "from sklearn.pipeline import make_pipeline\n",
        "from sklearn.linear_model import Ridge\n",
        "from sklearn.preprocessing import PolynomialFeatures\n",
        "from sklearn import svm,model_selection, tree, linear_model, neighbors, naive_bayes, ensemble, discriminant_analysis, gaussian_process\n",
        "\n",
        "#load package\n",
        "import pandas as pd\n",
        "import numpy as np\n",
        "import matplotlib.pyplot as plt\n",
        "#from math import sqrt\n",
        "import seaborn as sns\n",
        "\n",
        "import warnings\n",
        "warnings.filterwarnings('ignore')"
      ],
      "execution_count": 0,
      "outputs": []
    },
    {
      "metadata": {
        "id": "ym7WxvPFZicN",
        "colab_type": "code",
        "colab": {}
      },
      "cell_type": "code",
      "source": [
        "MLA = [\n",
        "#     Ensemble Methods\n",
        "   ensemble.AdaBoostClassifier(),\n",
        "   ensemble.BaggingClassifier(),\n",
        "   ensemble.ExtraTreesClassifier(),\n",
        "   ensemble.GradientBoostingClassifier(), # best\n",
        "   ensemble.RandomForestClassifier(),\n",
        "\n",
        "    #Gaussian Processes (problems with this model)\n",
        "   # gaussian_process.GaussianProcessClassifier(),\n",
        "    \n",
        "    #GLM\n",
        "   linear_model.LogisticRegressionCV(),\n",
        "   linear_model.PassiveAggressiveClassifier(),\n",
        "   linear_model. RidgeClassifierCV(),\n",
        "   linear_model.SGDClassifier(),\n",
        "   linear_model.Perceptron(),\n",
        "    \n",
        "    #Navies Bayes\n",
        "   naive_bayes.BernoulliNB(),\n",
        "   naive_bayes.GaussianNB(),\n",
        "    \n",
        "    #Nearest Neighbor\n",
        "   neighbors.KNeighborsClassifier(),\n",
        "    \n",
        "    #SVM\n",
        "   svm.SVC(probability=True),\n",
        "   svm.NuSVC(probability=True),\n",
        "   svm.LinearSVC(),\n",
        "    \n",
        "    #Trees    \n",
        "   tree.DecisionTreeClassifier(),\n",
        "   tree.ExtraTreeClassifier(),\n",
        "    \n",
        "    ]"
      ],
      "execution_count": 0,
      "outputs": []
    },
    {
      "metadata": {
        "id": "c7-0Usy2ZlOM",
        "colab_type": "code",
        "colab": {
          "base_uri": "https://localhost:8080/",
          "height": 607
        },
        "outputId": "d1431dcf-e35c-4f66-e294-e7e13544e992"
      },
      "cell_type": "code",
      "source": [
        "MLA_columns = []\n",
        "MLA_compare = pd.DataFrame(columns = MLA_columns)\n",
        "\n",
        "\n",
        "row_index = 0\n",
        "for alg in MLA:\n",
        "    \n",
        "    \n",
        "    predicted = alg.fit(xtrain, ytrain).predict(xtest)\n",
        "    fp, tp, th = roc_curve(ytest, predicted)\n",
        "    MLA_name = alg.__class__.__name__\n",
        "    MLA_compare.loc[row_index,'MLA Name'] = MLA_name\n",
        "    MLA_compare.loc[row_index, 'MLA Train Accuracy'] = round(alg.score(xtrain, ytrain), 4)\n",
        "    MLA_compare.loc[row_index, 'MLA Test Accuracy'] = round(alg.score(xtest, ytest), 4)\n",
        "    MLA_compare.loc[row_index, 'MLA Precission'] = precision_score(ytest, predicted)\n",
        "    MLA_compare.loc[row_index, 'MLA Recall'] = recall_score(ytest, predicted)\n",
        "    MLA_compare.loc[row_index, 'MLA AUC'] = auc(fp, tp)\n",
        "\n",
        "\n",
        "\n",
        "\n",
        "\n",
        "    row_index+=1\n",
        "    \n",
        "MLA_compare.sort_values(by = ['MLA Test Accuracy'], ascending = False, inplace = True)    \n",
        "MLA_compare"
      ],
      "execution_count": 139,
      "outputs": [
        {
          "output_type": "execute_result",
          "data": {
            "text/html": [
              "<div>\n",
              "<style scoped>\n",
              "    .dataframe tbody tr th:only-of-type {\n",
              "        vertical-align: middle;\n",
              "    }\n",
              "\n",
              "    .dataframe tbody tr th {\n",
              "        vertical-align: top;\n",
              "    }\n",
              "\n",
              "    .dataframe thead th {\n",
              "        text-align: right;\n",
              "    }\n",
              "</style>\n",
              "<table border=\"1\" class=\"dataframe\">\n",
              "  <thead>\n",
              "    <tr style=\"text-align: right;\">\n",
              "      <th></th>\n",
              "      <th>MLA Name</th>\n",
              "      <th>MLA Train Accuracy</th>\n",
              "      <th>MLA Test Accuracy</th>\n",
              "      <th>MLA Precission</th>\n",
              "      <th>MLA Recall</th>\n",
              "      <th>MLA AUC</th>\n",
              "    </tr>\n",
              "  </thead>\n",
              "  <tbody>\n",
              "    <tr>\n",
              "      <th>3</th>\n",
              "      <td>GradientBoostingClassifier</td>\n",
              "      <td>0.8701</td>\n",
              "      <td>0.8718</td>\n",
              "      <td>0.840261</td>\n",
              "      <td>0.886882</td>\n",
              "      <td>0.873089</td>\n",
              "    </tr>\n",
              "    <tr>\n",
              "      <th>4</th>\n",
              "      <td>RandomForestClassifier</td>\n",
              "      <td>0.9137</td>\n",
              "      <td>0.8709</td>\n",
              "      <td>0.861485</td>\n",
              "      <td>0.853333</td>\n",
              "      <td>0.869416</td>\n",
              "    </tr>\n",
              "    <tr>\n",
              "      <th>1</th>\n",
              "      <td>BaggingClassifier</td>\n",
              "      <td>0.9131</td>\n",
              "      <td>0.8693</td>\n",
              "      <td>0.859436</td>\n",
              "      <td>0.852043</td>\n",
              "      <td>0.867874</td>\n",
              "    </tr>\n",
              "    <tr>\n",
              "      <th>2</th>\n",
              "      <td>ExtraTreesClassifier</td>\n",
              "      <td>0.9165</td>\n",
              "      <td>0.8679</td>\n",
              "      <td>0.863116</td>\n",
              "      <td>0.843441</td>\n",
              "      <td>0.865906</td>\n",
              "    </tr>\n",
              "    <tr>\n",
              "      <th>0</th>\n",
              "      <td>AdaBoostClassifier</td>\n",
              "      <td>0.8622</td>\n",
              "      <td>0.8671</td>\n",
              "      <td>0.839242</td>\n",
              "      <td>0.875699</td>\n",
              "      <td>0.867857</td>\n",
              "    </tr>\n",
              "    <tr>\n",
              "      <th>12</th>\n",
              "      <td>KNeighborsClassifier</td>\n",
              "      <td>0.8793</td>\n",
              "      <td>0.8583</td>\n",
              "      <td>0.848802</td>\n",
              "      <td>0.837849</td>\n",
              "      <td>0.856649</td>\n",
              "    </tr>\n",
              "    <tr>\n",
              "      <th>16</th>\n",
              "      <td>DecisionTreeClassifier</td>\n",
              "      <td>0.9165</td>\n",
              "      <td>0.8578</td>\n",
              "      <td>0.858618</td>\n",
              "      <td>0.822796</td>\n",
              "      <td>0.854865</td>\n",
              "    </tr>\n",
              "    <tr>\n",
              "      <th>17</th>\n",
              "      <td>ExtraTreeClassifier</td>\n",
              "      <td>0.9165</td>\n",
              "      <td>0.8568</td>\n",
              "      <td>0.854157</td>\n",
              "      <td>0.826237</td>\n",
              "      <td>0.854253</td>\n",
              "    </tr>\n",
              "    <tr>\n",
              "      <th>5</th>\n",
              "      <td>LogisticRegressionCV</td>\n",
              "      <td>0.8159</td>\n",
              "      <td>0.8237</td>\n",
              "      <td>0.804014</td>\n",
              "      <td>0.809892</td>\n",
              "      <td>0.822570</td>\n",
              "    </tr>\n",
              "    <tr>\n",
              "      <th>15</th>\n",
              "      <td>LinearSVC</td>\n",
              "      <td>0.8105</td>\n",
              "      <td>0.8167</td>\n",
              "      <td>0.811770</td>\n",
              "      <td>0.777204</td>\n",
              "      <td>0.813405</td>\n",
              "    </tr>\n",
              "    <tr>\n",
              "      <th>13</th>\n",
              "      <td>SVC</td>\n",
              "      <td>0.8377</td>\n",
              "      <td>0.8028</td>\n",
              "      <td>0.741474</td>\n",
              "      <td>0.869677</td>\n",
              "      <td>0.808313</td>\n",
              "    </tr>\n",
              "    <tr>\n",
              "      <th>7</th>\n",
              "      <td>RidgeClassifierCV</td>\n",
              "      <td>0.8010</td>\n",
              "      <td>0.8026</td>\n",
              "      <td>0.803226</td>\n",
              "      <td>0.749677</td>\n",
              "      <td>0.798206</td>\n",
              "    </tr>\n",
              "    <tr>\n",
              "      <th>14</th>\n",
              "      <td>NuSVC</td>\n",
              "      <td>0.7795</td>\n",
              "      <td>0.7580</td>\n",
              "      <td>0.744604</td>\n",
              "      <td>0.712258</td>\n",
              "      <td>0.754191</td>\n",
              "    </tr>\n",
              "    <tr>\n",
              "      <th>8</th>\n",
              "      <td>SGDClassifier</td>\n",
              "      <td>0.7332</td>\n",
              "      <td>0.7290</td>\n",
              "      <td>0.656562</td>\n",
              "      <td>0.847742</td>\n",
              "      <td>0.738839</td>\n",
              "    </tr>\n",
              "    <tr>\n",
              "      <th>9</th>\n",
              "      <td>Perceptron</td>\n",
              "      <td>0.7293</td>\n",
              "      <td>0.7059</td>\n",
              "      <td>0.793571</td>\n",
              "      <td>0.477849</td>\n",
              "      <td>0.687058</td>\n",
              "    </tr>\n",
              "    <tr>\n",
              "      <th>6</th>\n",
              "      <td>PassiveAggressiveClassifier</td>\n",
              "      <td>0.6643</td>\n",
              "      <td>0.6613</td>\n",
              "      <td>0.855263</td>\n",
              "      <td>0.307527</td>\n",
              "      <td>0.632048</td>\n",
              "    </tr>\n",
              "    <tr>\n",
              "      <th>11</th>\n",
              "      <td>GaussianNB</td>\n",
              "      <td>0.5670</td>\n",
              "      <td>0.5891</td>\n",
              "      <td>0.526552</td>\n",
              "      <td>0.959570</td>\n",
              "      <td>0.619771</td>\n",
              "    </tr>\n",
              "    <tr>\n",
              "      <th>10</th>\n",
              "      <td>BernoulliNB</td>\n",
              "      <td>0.5364</td>\n",
              "      <td>0.5451</td>\n",
              "      <td>0.000000</td>\n",
              "      <td>0.000000</td>\n",
              "      <td>0.500000</td>\n",
              "    </tr>\n",
              "  </tbody>\n",
              "</table>\n",
              "</div>"
            ],
            "text/plain": [
              "                       MLA Name  MLA Train Accuracy  MLA Test Accuracy  \\\n",
              "3    GradientBoostingClassifier              0.8701             0.8718   \n",
              "4        RandomForestClassifier              0.9137             0.8709   \n",
              "1             BaggingClassifier              0.9131             0.8693   \n",
              "2          ExtraTreesClassifier              0.9165             0.8679   \n",
              "0            AdaBoostClassifier              0.8622             0.8671   \n",
              "12         KNeighborsClassifier              0.8793             0.8583   \n",
              "16       DecisionTreeClassifier              0.9165             0.8578   \n",
              "17          ExtraTreeClassifier              0.9165             0.8568   \n",
              "5          LogisticRegressionCV              0.8159             0.8237   \n",
              "15                    LinearSVC              0.8105             0.8167   \n",
              "13                          SVC              0.8377             0.8028   \n",
              "7             RidgeClassifierCV              0.8010             0.8026   \n",
              "14                        NuSVC              0.7795             0.7580   \n",
              "8                 SGDClassifier              0.7332             0.7290   \n",
              "9                    Perceptron              0.7293             0.7059   \n",
              "6   PassiveAggressiveClassifier              0.6643             0.6613   \n",
              "11                   GaussianNB              0.5670             0.5891   \n",
              "10                  BernoulliNB              0.5364             0.5451   \n",
              "\n",
              "    MLA Precission  MLA Recall   MLA AUC  \n",
              "3         0.840261    0.886882  0.873089  \n",
              "4         0.861485    0.853333  0.869416  \n",
              "1         0.859436    0.852043  0.867874  \n",
              "2         0.863116    0.843441  0.865906  \n",
              "0         0.839242    0.875699  0.867857  \n",
              "12        0.848802    0.837849  0.856649  \n",
              "16        0.858618    0.822796  0.854865  \n",
              "17        0.854157    0.826237  0.854253  \n",
              "5         0.804014    0.809892  0.822570  \n",
              "15        0.811770    0.777204  0.813405  \n",
              "13        0.741474    0.869677  0.808313  \n",
              "7         0.803226    0.749677  0.798206  \n",
              "14        0.744604    0.712258  0.754191  \n",
              "8         0.656562    0.847742  0.738839  \n",
              "9         0.793571    0.477849  0.687058  \n",
              "6         0.855263    0.307527  0.632048  \n",
              "11        0.526552    0.959570  0.619771  \n",
              "10        0.000000    0.000000  0.500000  "
            ]
          },
          "metadata": {
            "tags": []
          },
          "execution_count": 139
        }
      ]
    }
  ]
}