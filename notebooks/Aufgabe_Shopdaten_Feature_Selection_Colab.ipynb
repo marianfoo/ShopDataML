{
  "nbformat": 4,
  "nbformat_minor": 0,
  "metadata": {
    "colab": {
      "name": "Aufgabe Shopdaten Feature Selection.ipynb",
      "version": "0.3.2",
      "provenance": [],
      "include_colab_link": true
    },
    "kernelspec": {
      "name": "python3",
      "display_name": "Python 3"
    },
    "accelerator": "TPU"
  },
  "cells": [
    {
      "cell_type": "markdown",
      "metadata": {
        "id": "view-in-github",
        "colab_type": "text"
      },
      "source": [
        "<a href=\"https://colab.research.google.com/github/marianfoo/ShopDataML/blob/master/notebooks/Aufgabe_Shopdaten_Feature_Selection_Colab.ipynb\" target=\"_parent\"><img src=\"https://colab.research.google.com/assets/colab-badge.svg\" alt=\"Open In Colab\"/></a>"
      ]
    },
    {
      "metadata": {
        "id": "4J1XIFjG9m4k",
        "colab_type": "text"
      },
      "cell_type": "markdown",
      "source": [
        "# Daten importieren"
      ]
    },
    {
      "metadata": {
        "id": "wSXVmRq0AQ7r",
        "colab_type": "code",
        "colab": {}
      },
      "cell_type": "code",
      "source": [
        ""
      ],
      "execution_count": 0,
      "outputs": []
    },
    {
      "metadata": {
        "id": "T0C5Tu4Q9m4m",
        "colab_type": "text"
      },
      "cell_type": "markdown",
      "source": [
        "- transact_train   = Transaktionsdaten zum trainieren\n",
        "- transact_class   = aktuelle Transaktionsdaten zum testen\n",
        "- realclass_t1     = \"Lösung\" der transact_class ob Käufer oder nicht"
      ]
    },
    {
      "metadata": {
        "id": "IH2ZSP6s9m4n",
        "colab_type": "code",
        "colab": {}
      },
      "cell_type": "code",
      "source": [
        "import pandas as pd\n",
        "import numpy as np\n",
        "import matplotlib.pyplot as plt\n",
        "import numpy as np\n",
        "from sklearn.ensemble import ExtraTreesClassifier\n",
        "from sklearn.feature_selection import SelectKBest\n",
        "from sklearn.feature_selection import chi2\n",
        "import matplotlib.pyplot as plt\n",
        "from sklearn.neighbors import KNeighborsClassifier\n",
        "from sklearn.svm import SVC\n",
        "from sklearn.naive_bayes import GaussianNB, BernoulliNB, MultinomialNB\n",
        "from sklearn import metrics\n",
        "from sklearn.linear_model import LogisticRegression"
      ],
      "execution_count": 0,
      "outputs": []
    },
    {
      "metadata": {
        "id": "tJMTJEbG9m5I",
        "colab_type": "code",
        "colab": {}
      },
      "cell_type": "code",
      "source": [
        "transact_train = pd.read_csv('https://raw.githubusercontent.com/marianfoo/ShopDataML/master/data/transact_train.txt', sep='|', na_values='?')\n",
        "transact_class = pd.read_csv('https://raw.githubusercontent.com/marianfoo/ShopDataML/master/data/transact_class.txt', sep='|', na_values='?')\n",
        "realclass_t1 = pd.read_csv('https://raw.githubusercontent.com/marianfoo/ShopDataML/master/data/realclass_t1.txt', sep='|', na_values='?')"
      ],
      "execution_count": 0,
      "outputs": []
    },
    {
      "metadata": {
        "id": "lz4jyebD9m5M",
        "colab_type": "text"
      },
      "cell_type": "markdown",
      "source": [
        "# Klassifizierung der Testdaten an Testdaten anhängen"
      ]
    },
    {
      "metadata": {
        "id": "u6Pu-aLU9m5O",
        "colab_type": "code",
        "colab": {}
      },
      "cell_type": "code",
      "source": [
        "transact_class = pd.merge(transact_class, realclass_t1, on='sessionNo').rename(columns={'prediction': 'order'})"
      ],
      "execution_count": 0,
      "outputs": []
    },
    {
      "metadata": {
        "id": "y6s-IsFo9m5S",
        "colab_type": "text"
      },
      "cell_type": "markdown",
      "source": [
        "# Reduzierung der Trainingsdaten falls notwendig"
      ]
    },
    {
      "metadata": {
        "id": "bF01Zb3y9m5T",
        "colab_type": "code",
        "colab": {}
      },
      "cell_type": "code",
      "source": [
        "def down_size_data(factor, df):\n",
        "    print('Shape of dataframe before down sizing with factor' + str(factor) +':' + str(df.shape))\n",
        "    sampleSize = int(len(df.index) * factor)\n",
        "    df = df.sample(sampleSize)\n",
        "    print('Shape of dataframe after down sizing with factor' + str(factor) + ':' + str(df.shape))\n",
        "    return df"
      ],
      "execution_count": 0,
      "outputs": []
    },
    {
      "metadata": {
        "id": "aYHgo3tn9m5U",
        "colab_type": "code",
        "colab": {
          "base_uri": "https://localhost:8080/",
          "height": 51
        },
        "outputId": "b831a10d-01e6-49c1-c0d3-79a5f1dbc454"
      },
      "cell_type": "code",
      "source": [
        "transact_train = down_size_data(0.01,transact_train)"
      ],
      "execution_count": 5,
      "outputs": [
        {
          "output_type": "stream",
          "text": [
            "Shape of dataframe before down sizing with factor0.01:(429013, 24)\n",
            "Shape of dataframe after down sizing with factor0.01:(4290, 24)\n"
          ],
          "name": "stdout"
        }
      ]
    },
    {
      "metadata": {
        "id": "fbCUwxRK9m5b",
        "colab_type": "text"
      },
      "cell_type": "markdown",
      "source": [
        "# Daten des Typs 'String' in integer umwandeln"
      ]
    },
    {
      "metadata": {
        "id": "bkIelUDc9m5b",
        "colab_type": "code",
        "colab": {}
      },
      "cell_type": "code",
      "source": [
        "def mapping_values(df):\n",
        "    if df['order'].dtype == 'object':\n",
        "        df['order'] = df['order'].map({'y': 1, 'n': 0})\n",
        "    df['onlineStatus'] = df['onlineStatus'].map({'y': 1, 'n': 0})\n",
        "    df['availability'] = df['availability'].map({\n",
        "        'completely orderable': 1, 'completely not orderable': 2, 'mainly orderable': 3,\n",
        "        'mixed': 4, 'completely not determinable': 5, 'mainly not orderable': 6, 'mainly not determinable': 7\n",
        "    })"
      ],
      "execution_count": 0,
      "outputs": []
    },
    {
      "metadata": {
        "id": "x1bPGVlu9m5e",
        "colab_type": "code",
        "colab": {}
      },
      "cell_type": "code",
      "source": [
        "mapping_values(transact_train)\n",
        "mapping_values(transact_class)"
      ],
      "execution_count": 0,
      "outputs": []
    },
    {
      "metadata": {
        "id": "12tYE8_q9m5h",
        "colab_type": "text"
      },
      "cell_type": "markdown",
      "source": [
        "# Kundennr. hat keine Relevanz"
      ]
    },
    {
      "metadata": {
        "id": "DEdE7xMQ9m5i",
        "colab_type": "code",
        "colab": {}
      },
      "cell_type": "code",
      "source": [
        "transact_train.drop('customerNo', axis=1, inplace=True)\n",
        "transact_class.drop('customerNo', axis=1, inplace=True)"
      ],
      "execution_count": 0,
      "outputs": []
    },
    {
      "metadata": {
        "id": "dXIHDKcA9m5l",
        "colab_type": "text"
      },
      "cell_type": "markdown",
      "source": [
        "# Spalte 'sessionNo' als Index für Dataframe nutzen"
      ]
    },
    {
      "metadata": {
        "id": "tfIBiN8G9m5l",
        "colab_type": "code",
        "colab": {}
      },
      "cell_type": "code",
      "source": [
        "transact_train.set_index('sessionNo', inplace=True)\n",
        "transact_class.set_index('sessionNo', inplace=True)"
      ],
      "execution_count": 0,
      "outputs": []
    },
    {
      "metadata": {
        "id": "zxGZCwad9m5o",
        "colab_type": "text"
      },
      "cell_type": "markdown",
      "source": [
        "# Neue Daten aus den vorhanden Spalten erzeugen"
      ]
    },
    {
      "metadata": {
        "id": "o6_PbhOp9m5o",
        "colab_type": "text"
      },
      "cell_type": "markdown",
      "source": [
        "# Leere Spalten erzeugen zum füllen "
      ]
    },
    {
      "metadata": {
        "id": "vbXaJBWH9m5o",
        "colab_type": "code",
        "colab": {}
      },
      "cell_type": "code",
      "source": [
        "import numpy as np\n",
        "def add_columns(copy):\n",
        "    df = copy.copy()\n",
        "    df['maxBStep'] = np.nan\n",
        "    df['avgBStep'] = np.nan\n",
        "    df['countTransact'] = np.nan\n",
        "    df['maxAvailability'] = np.nan\n",
        "    df['maxOnlineStatus'] = np.nan\n",
        "    df['avgAvailability'] = np.nan\n",
        "    df['minOnlineStatus'] = np.nan\n",
        "    df['minAvailability'] = np.nan\n",
        "    # sicherstellen das order in der letzten Spalte ist\n",
        "    df = df.reindex(columns=(list([a for a in df.columns if a != 'order']) + ['order'] ))\n",
        "    return df"
      ],
      "execution_count": 0,
      "outputs": []
    },
    {
      "metadata": {
        "id": "sImQqR1g9m5s",
        "colab_type": "code",
        "colab": {}
      },
      "cell_type": "code",
      "source": [
        "transact_train = add_columns(transact_train)\n",
        "transact_class = add_columns(transact_class)"
      ],
      "execution_count": 0,
      "outputs": []
    },
    {
      "metadata": {
        "id": "ihaTtb3o9m5y",
        "colab_type": "text"
      },
      "cell_type": "markdown",
      "source": [
        "# Daten erzeugen"
      ]
    },
    {
      "metadata": {
        "id": "8rtqi1Ro9m5y",
        "colab_type": "code",
        "colab": {}
      },
      "cell_type": "code",
      "source": [
        "def fill_columns(added_df):\n",
        "    # Serie erzeugen mit allen unique Session Nummern\n",
        "    unique_sessions = added_df.index.unique().sort_values()\n",
        "    # Loop durch alle Session Nummern [1,2,3,4,....]\n",
        "    for session in unique_sessions:\n",
        "        if session % 1000 == 0:\n",
        "            print(str(session))\n",
        "        # Alle Zeilen mit der Session Nummer\n",
        "        rows = added_df.loc[added_df.index == session]\n",
        "        # Maximale Nummer Schritt in der Einkaufsabwicklung\n",
        "        maxBStep = rows['bStep'].max()\n",
        "        # Durchschn. Nummer Schritt in der Einkaufsabwicklung\n",
        "        avgBStep = rows['bStep'].mean()\n",
        "        # Anzahl der Transaktionen der Sessionnr.\n",
        "        countTransact = len(rows.index)\n",
        "        # Max. Zahl der Produktsverfügbarkeit\n",
        "        maxAvailability = rows['availability'].max()\n",
        "        # Min. Zahl der Produktsverfügbarkeit\n",
        "        minAvailability = rows['availability'].min()\n",
        "        # Durchschn. Zahl der Produktsverfügbarkeit\n",
        "        avgAvailability = rows['availability'].mean()\n",
        "        # Max. Zahl der Online Status (0 oder 1)\n",
        "        maxOnlineStatus = rows['onlineStatus'].max()\n",
        "        # Min. Zahl der Online Status (0 oder 1)\n",
        "        minOnlineStatus = rows['onlineStatus'].min()\n",
        "        added_df.loc[added_df.index == session,'maxBStep'] = maxBStep\n",
        "        added_df.loc[added_df.index == session,'avgBStep'] = avgBStep\n",
        "        added_df.loc[added_df.index == session,'countTransact'] = countTransact\n",
        "        added_df.loc[added_df.index == session,'maxAvailability'] = maxAvailability\n",
        "        added_df.loc[added_df.index == session,'minAvailability'] = minAvailability\n",
        "        added_df.loc[added_df.index == session,'avgAvailability'] = avgAvailability\n",
        "        added_df.loc[added_df.index == session,'maxOnlineStatus'] = maxOnlineStatus\n",
        "        added_df.loc[added_df.index == session,'minOnlineStatus'] = minOnlineStatus"
      ],
      "execution_count": 0,
      "outputs": []
    },
    {
      "metadata": {
        "id": "vpGkcdKu9m51",
        "colab_type": "code",
        "colab": {
          "base_uri": "https://localhost:8080/",
          "height": 187
        },
        "outputId": "94054f74-ef7f-4bc3-efd9-7aa4cf3cf326"
      },
      "cell_type": "code",
      "source": [
        "fill_columns(transact_train)\n",
        "fill_columns(transact_class)"
      ],
      "execution_count": 13,
      "outputs": [
        {
          "output_type": "stream",
          "text": [
            "4000\n",
            "7000\n",
            "11000\n",
            "17000\n",
            "37000\n",
            "1000\n",
            "2000\n",
            "3000\n",
            "4000\n",
            "5000\n"
          ],
          "name": "stdout"
        }
      ]
    },
    {
      "metadata": {
        "id": "r8AjltFS9m54",
        "colab_type": "text"
      },
      "cell_type": "markdown",
      "source": [
        "## Leere Zeilen mit verschiedene Zahlen füllen\n",
        "## mean = Mittelwert der jeweiligen Spalte\n",
        "## median = Median der jeweiligen Spalte\n",
        "## mode = Modi der einzelnen Elemente entlang der ausgewählten Achse"
      ]
    },
    {
      "metadata": {
        "id": "BFiYP-zW9m55",
        "colab_type": "code",
        "colab": {}
      },
      "cell_type": "code",
      "source": [
        "def fill_null_values(df, mode):\n",
        "    if mode == 'mean':\n",
        "        df = df.fillna(value=df.mean())\n",
        "        print('Filled null values with mean')\n",
        "    if mode == 'median':\n",
        "        df = df.fillna(value=df.median())\n",
        "        print('Filled null values with median')\n",
        "    if mode == 'mode':\n",
        "        df = df.fillna(value=df.mode().iloc[0])\n",
        "        print('Filled null values with mode')\n",
        "    return df"
      ],
      "execution_count": 0,
      "outputs": []
    },
    {
      "metadata": {
        "id": "HSyzC9Td9m5-",
        "colab_type": "text"
      },
      "cell_type": "markdown",
      "source": [
        "# Für Traingsdaten und Testdaten wird für die jeweiligen Modus eine eigener Dataframe erzeugt"
      ]
    },
    {
      "metadata": {
        "id": "wMFnddVc9m6A",
        "colab_type": "code",
        "colab": {},
        "outputId": "1023a032-8832-4640-b096-5da4e27886a9"
      },
      "cell_type": "code",
      "source": [
        "train_mean = fill_null_values(transact_train, 'mean')\n",
        "train_median = fill_null_values(transact_train, 'median')\n",
        "train_mode = fill_null_values(transact_train, 'mode')\n",
        "class_mean = fill_null_values(transact_class, 'mean')\n",
        "class_median = fill_null_values(transact_class, 'median')\n",
        "class_mode = fill_null_values(transact_class, 'mode')"
      ],
      "execution_count": 0,
      "outputs": [
        {
          "output_type": "stream",
          "text": [
            "Filled null values with mean\n",
            "Filled null values with median\n",
            "Filled null values with mode\n",
            "Filled null values with mean\n",
            "Filled null values with median\n",
            "Filled null values with mode\n"
          ],
          "name": "stdout"
        }
      ]
    },
    {
      "metadata": {
        "id": "1mbDY0q19m6E",
        "colab_type": "text"
      },
      "cell_type": "markdown",
      "source": [
        "# Wegen des langen Prozess werden die Daten in CSVs gespeichert"
      ]
    },
    {
      "metadata": {
        "id": "xhMH8ddK9m6F",
        "colab_type": "code",
        "colab": {}
      },
      "cell_type": "code",
      "source": [
        "train_mean.to_csv('~/Google Drive/Studium/StrategischeSysteme/data/train_mean_small.csv')\n",
        "train_median.to_csv('~/Google Drive/Studium/StrategischeSysteme/data/train_median_small.csv')\n",
        "train_mode.to_csv('~/Google Drive/Studium/StrategischeSysteme/data/train_mode_small.csv')\n",
        "class_mean.to_csv('~/Google Drive/Studium/StrategischeSysteme/data/class_mean_small.csv')\n",
        "class_median.to_csv('~/Google Drive/Studium/StrategischeSysteme/data/class_median_small.csv')\n",
        "class_mode.to_csv('~/Google Drive/Studium/StrategischeSysteme/data/class_mode_small.csv')"
      ],
      "execution_count": 0,
      "outputs": []
    },
    {
      "metadata": {
        "id": "nohrGhRX9m6G",
        "colab_type": "text"
      },
      "cell_type": "markdown",
      "source": [
        "# fertig vearbeitete Daten importien"
      ]
    },
    {
      "metadata": {
        "id": "4IIfZG119m6H",
        "colab_type": "code",
        "colab": {}
      },
      "cell_type": "code",
      "source": [
        "train_mean_small = pd.read_csv('~/Google Drive/Studium/StrategischeSysteme/data/train_mean_small.csv')\n",
        "class_mean_small = pd.read_csv('~/Google Drive/Studium/StrategischeSysteme/data/class_mean_small.csv')"
      ],
      "execution_count": 0,
      "outputs": []
    },
    {
      "metadata": {
        "id": "7ohQVfFi9m6I",
        "colab_type": "code",
        "colab": {}
      },
      "cell_type": "code",
      "source": [
        "# set index = sessionNo was not saved to csv, have to do it again\n",
        "train_mean_small.set_index('sessionNo', inplace=True)\n",
        "class_mean_small.set_index('sessionNo', inplace=True)"
      ],
      "execution_count": 0,
      "outputs": []
    },
    {
      "metadata": {
        "id": "aJhXtBu49m6N",
        "colab_type": "text"
      },
      "cell_type": "markdown",
      "source": [
        "# Testdaten und Trainingsdaten in gleichen Format speichern"
      ]
    },
    {
      "metadata": {
        "id": "UOu0mixI9m6O",
        "colab_type": "code",
        "colab": {}
      },
      "cell_type": "code",
      "source": [
        "def get_test_data(train_df,test_df):\n",
        "    X_train = train_df.iloc[:, :train_df.shape[1] - 1]\n",
        "    X_test = test_df.iloc[:, :test_df.shape[1] - 1]\n",
        "    y_train = train_df['order']\n",
        "    y_test  = test_df['order']\n",
        "    return X_train, X_test, y_train, y_test"
      ],
      "execution_count": 0,
      "outputs": []
    },
    {
      "metadata": {
        "id": "L2YIPBte9m6P",
        "colab_type": "code",
        "colab": {}
      },
      "cell_type": "code",
      "source": [
        "def import_data_2(path):\n",
        "    df = pd.read_csv(path)\n",
        "    df.set_index('sessionNo', inplace=True)\n",
        "    df.sort_index(inplace=True)\n",
        "    return df\n",
        "def get_all_data():\n",
        "    columns_data = ['X_train_','X_test_','y_train_','y_test_']\n",
        "    fill_modes = ['mean','mode','median']\n",
        "    column_count = [5,10,15,20]\n",
        "    new_dict = {}\n",
        "\n",
        "    for fill_mode in fill_modes:\n",
        "        for count in column_count:\n",
        "            filename_base = '~/Google Drive/Studium/StrategischeSysteme/DMC2013/data/'\n",
        "            filename_2 = filename_base + 'train' + '_' + fill_mode + '_' + str(count) + '.csv'\n",
        "            train_file = import_data_2(filename_2)\n",
        "            filename_2 = filename_base + 'class' + '_' + fill_mode + '_' + str(count) + '.csv'\n",
        "            class_file = import_data_2(filename_2)\n",
        "            X_train, X_test, y_train, y_test = get_test_data(train_file,class_file)\n",
        "            new_dict[fill_mode + '_' + str(count)] = {\n",
        "                'X_train':X_train,\n",
        "                'X_test':X_test,\n",
        "                'y_train':y_train,\n",
        "                'y_test':y_test\n",
        "            }\n",
        "    return new_dict"
      ],
      "execution_count": 0,
      "outputs": []
    },
    {
      "metadata": {
        "id": "N6kf09NJ9m6R",
        "colab_type": "text"
      },
      "cell_type": "markdown",
      "source": [
        "# Feature Selection with RFE and Logistic Regression"
      ]
    },
    {
      "metadata": {
        "id": "OD_Rd7w39m6S",
        "colab_type": "code",
        "colab": {}
      },
      "cell_type": "code",
      "source": [
        "X_train_rfe, X_test_rfe, y_train_rfe, y_test_rfe = get_test_data(train_mean_small,class_mean_small)"
      ],
      "execution_count": 0,
      "outputs": []
    },
    {
      "metadata": {
        "id": "d81TtgOJ9m6W",
        "colab_type": "code",
        "colab": {}
      },
      "cell_type": "code",
      "source": [
        "def feature_select_rfe(X_train_rfe,y_train_rfe,iterations,attributes):\n",
        "    from sklearn.linear_model import LogisticRegression\n",
        "    from sklearn.feature_selection import RFE\n",
        "    logistic_reg_rfe = LogisticRegression(solver='lbfgs',multi_class='auto',max_iter=iterations)\n",
        "    rfe = RFE(logistic_reg_rfe, attributes)\n",
        "    rfe = rfe.fit(X_train_rfe, y_train_rfe)\n",
        "    # summarize the selection of the attributes\n",
        "    print(\"Num Features: %d\" % rfe.n_features_)\n",
        "    print(\"Selected Features: %s\" % rfe.support_)\n",
        "    print(\"Feature Ranking: %s\" % rfe.ranking_)\n",
        "    return rfe"
      ],
      "execution_count": 0,
      "outputs": []
    },
    {
      "metadata": {
        "id": "8t6pk7lx9m6Z",
        "colab_type": "code",
        "colab": {}
      },
      "cell_type": "code",
      "source": [
        "def dropBadColumns (df,rfe):\n",
        "    df_copy = df.copy()\n",
        "    dropArray = []\n",
        "    keepArray = []\n",
        "    for index in range(len(rfe.ranking_)):\n",
        "        if rfe.ranking_[index] != 1:\n",
        "            dropArray.append(index)\n",
        "        else:\n",
        "            keepArray.append(index)\n",
        "\n",
        "    print('Columns to keep: {}'.format(list(df_copy.columns[keepArray])))\n",
        "    print('Columns to discard: {}'.format(list(df_copy.columns[dropArray])))\n",
        "    df_copy.drop(df_copy.columns[dropArray], axis=1,  inplace=True)\n",
        "    return df_copy"
      ],
      "execution_count": 0,
      "outputs": []
    },
    {
      "metadata": {
        "id": "SfAt8Hb99m6c",
        "colab_type": "text"
      },
      "cell_type": "markdown",
      "source": [
        "## Spalten entfernen"
      ]
    },
    {
      "metadata": {
        "collapsed": true,
        "id": "d6Fm1LBu9m6e",
        "colab_type": "code",
        "colab": {},
        "outputId": "4215e15f-d593-497a-836a-9a903bd4e9c8"
      },
      "cell_type": "code",
      "source": [
        "rfe = feature_select_rfe(X_train_rfe,y_train_rfe,1000,10)  \n",
        "X_train_rfe_dropped = dropBadColumns(X_train_rfe,rfe)  \n",
        "X_test_rfe_dropped  = dropBadColumns(X_test_rfe,rfe)  "
      ],
      "execution_count": 0,
      "outputs": [
        {
          "output_type": "stream",
          "text": [
            "/Users/marianbauersachs/anaconda3/lib/python3.6/site-packages/sklearn/linear_model/logistic.py:758: ConvergenceWarning: lbfgs failed to converge. Increase the number of iterations.\n",
            "  \"of iterations.\", ConvergenceWarning)\n",
            "/Users/marianbauersachs/anaconda3/lib/python3.6/site-packages/sklearn/linear_model/logistic.py:758: ConvergenceWarning: lbfgs failed to converge. Increase the number of iterations.\n",
            "  \"of iterations.\", ConvergenceWarning)\n",
            "/Users/marianbauersachs/anaconda3/lib/python3.6/site-packages/sklearn/linear_model/logistic.py:758: ConvergenceWarning: lbfgs failed to converge. Increase the number of iterations.\n",
            "  \"of iterations.\", ConvergenceWarning)\n",
            "/Users/marianbauersachs/anaconda3/lib/python3.6/site-packages/sklearn/linear_model/logistic.py:758: ConvergenceWarning: lbfgs failed to converge. Increase the number of iterations.\n",
            "  \"of iterations.\", ConvergenceWarning)\n",
            "/Users/marianbauersachs/anaconda3/lib/python3.6/site-packages/sklearn/linear_model/logistic.py:758: ConvergenceWarning: lbfgs failed to converge. Increase the number of iterations.\n",
            "  \"of iterations.\", ConvergenceWarning)\n",
            "/Users/marianbauersachs/anaconda3/lib/python3.6/site-packages/sklearn/linear_model/logistic.py:758: ConvergenceWarning: lbfgs failed to converge. Increase the number of iterations.\n",
            "  \"of iterations.\", ConvergenceWarning)\n",
            "/Users/marianbauersachs/anaconda3/lib/python3.6/site-packages/sklearn/linear_model/logistic.py:758: ConvergenceWarning: lbfgs failed to converge. Increase the number of iterations.\n",
            "  \"of iterations.\", ConvergenceWarning)\n",
            "/Users/marianbauersachs/anaconda3/lib/python3.6/site-packages/sklearn/linear_model/logistic.py:758: ConvergenceWarning: lbfgs failed to converge. Increase the number of iterations.\n",
            "  \"of iterations.\", ConvergenceWarning)\n",
            "/Users/marianbauersachs/anaconda3/lib/python3.6/site-packages/sklearn/linear_model/logistic.py:758: ConvergenceWarning: lbfgs failed to converge. Increase the number of iterations.\n",
            "  \"of iterations.\", ConvergenceWarning)\n",
            "/Users/marianbauersachs/anaconda3/lib/python3.6/site-packages/sklearn/linear_model/logistic.py:758: ConvergenceWarning: lbfgs failed to converge. Increase the number of iterations.\n",
            "  \"of iterations.\", ConvergenceWarning)\n",
            "/Users/marianbauersachs/anaconda3/lib/python3.6/site-packages/sklearn/linear_model/logistic.py:758: ConvergenceWarning: lbfgs failed to converge. Increase the number of iterations.\n",
            "  \"of iterations.\", ConvergenceWarning)\n"
          ],
          "name": "stderr"
        },
        {
          "output_type": "stream",
          "text": [
            "Num Features: 10\n",
            "Selected Features: [False False False False False False False  True False False False False\n",
            "  True False False False False False False  True False  True  True  True\n",
            "  True  True False  True  True]\n",
            "Feature Ranking: [ 6  3 17  7 15 19 18  1 14 12 16  5  1  2 20 10 11  8  9  1 13  1  1  1\n",
            "  1  1  4  1  1]\n",
            "Columns to keep: ['bCount', 'onlineStatus', 'address', 'maxBStep', 'avgBStep', 'countTransact', 'maxAvailability', 'maxOnlineStatus', 'minOnlineStatus', 'minAvailability']\n",
            "Columns to discard: ['startHour', 'startWeekday', 'duration', 'cCount', 'cMinPrice', 'cMaxPrice', 'cSumPrice', 'bMinPrice', 'bMaxPrice', 'bSumPrice', 'bStep', 'availability', 'maxVal', 'customerScore', 'accountLifetime', 'payments', 'age', 'lastOrder', 'avgAvailability']\n",
            "Columns to keep: ['bCount', 'onlineStatus', 'address', 'maxBStep', 'avgBStep', 'countTransact', 'maxAvailability', 'maxOnlineStatus', 'minOnlineStatus', 'minAvailability']\n",
            "Columns to discard: ['startHour', 'startWeekday', 'duration', 'cCount', 'cMinPrice', 'cMaxPrice', 'cSumPrice', 'bMinPrice', 'bMaxPrice', 'bSumPrice', 'bStep', 'availability', 'maxVal', 'customerScore', 'accountLifetime', 'payments', 'age', 'lastOrder', 'avgAvailability']\n"
          ],
          "name": "stdout"
        }
      ]
    },
    {
      "metadata": {
        "id": "yn6GwEth9m6h",
        "colab_type": "text"
      },
      "cell_type": "markdown",
      "source": [
        "# prepare feature selection in advance"
      ]
    },
    {
      "metadata": {
        "id": "SQdzOHZk9m6h",
        "colab_type": "code",
        "colab": {}
      },
      "cell_type": "code",
      "source": [
        "def feature_select_rfe_feature(X_train_rfe,y_train_rfe,iterations,attributes):\n",
        "    from sklearn.linear_model import LogisticRegression\n",
        "    from sklearn.feature_selection import RFE\n",
        "    logistic_reg_rfe = LogisticRegression(solver='lbfgs',multi_class='auto',max_iter=iterations)\n",
        "    rfe = RFE(logistic_reg_rfe, attributes)\n",
        "    rfe = rfe.fit(X_train_rfe, y_train_rfe)\n",
        "    # summarize the selection of the attributes\n",
        "    print(\"Num Features: %d\" % rfe.n_features_)\n",
        "    print(\"Selected Features: %s\" % rfe.support_)\n",
        "    print(\"Feature Ranking: %s\" % rfe.ranking_)\n",
        "    return rfe"
      ],
      "execution_count": 0,
      "outputs": []
    },
    {
      "metadata": {
        "id": "5Zj3LFWE9m6k",
        "colab_type": "code",
        "colab": {}
      },
      "cell_type": "code",
      "source": [
        "def dropBadColumns_feature (df,rfe):\n",
        "    df_copy = df.copy()\n",
        "    dropArray = []\n",
        "    keepArray = []\n",
        "    for index in range(len(rfe.ranking_)):\n",
        "        if rfe.ranking_[index] != 1:\n",
        "            dropArray.append(index)\n",
        "        else:\n",
        "            keepArray.append(index)\n",
        "\n",
        "    print('Columns to keep: {}'.format(list(df_copy.columns[keepArray])))\n",
        "    print('Columns to discard: {}'.format(list(df_copy.columns[dropArray])))\n",
        "    df_copy.drop(df_copy.columns[dropArray], axis=1,  inplace=True)\n",
        "    return df_copy"
      ],
      "execution_count": 0,
      "outputs": []
    },
    {
      "metadata": {
        "id": "PcAGy__W9m6m",
        "colab_type": "code",
        "colab": {}
      },
      "cell_type": "code",
      "source": [
        "def get_test_data_feature(train_df):\n",
        "    X_train = train_df.iloc[:, :train_df.shape[1] - 1]\n",
        "    y_train = train_df['order']\n",
        "    return X_train, y_train"
      ],
      "execution_count": 0,
      "outputs": []
    },
    {
      "metadata": {
        "id": "CODmHZ5G9m6n",
        "colab_type": "text"
      },
      "cell_type": "markdown",
      "source": [
        "## RFE Model speichern"
      ]
    },
    {
      "metadata": {
        "id": "3aKEg_Bq9m6o",
        "colab_type": "code",
        "colab": {}
      },
      "cell_type": "code",
      "source": [
        "from sklearn.externals import joblib\n",
        "filename = 'train_mean_5_rfe.sav'\n",
        "joblib.dump(train_mean_5_rfe, filename)"
      ],
      "execution_count": 0,
      "outputs": []
    },
    {
      "metadata": {
        "id": "Y9jvynXz9m6q",
        "colab_type": "text"
      },
      "cell_type": "markdown",
      "source": [
        "# Feature Importance with Extra Trees"
      ]
    },
    {
      "metadata": {
        "id": "zahlLcEd9m6r",
        "colab_type": "code",
        "colab": {}
      },
      "cell_type": "code",
      "source": [
        "X_train_etr, X_test_etr, y_train_etr, y_test_etr = get_test_data(train_mean_small,class_mean_small)"
      ],
      "execution_count": 0,
      "outputs": []
    },
    {
      "metadata": {
        "id": "Z337QIp69m6s",
        "colab_type": "code",
        "colab": {},
        "outputId": "8cb44fa0-faf4-4792-b44d-d07897333bc8"
      },
      "cell_type": "code",
      "source": [
        "from sklearn.ensemble import ExtraTreesClassifier\n",
        "extra_tree_model = ExtraTreesClassifier(n_estimators=100)\n",
        "extra_tree_model.fit(X_train_etr, y_train_etr)"
      ],
      "execution_count": 0,
      "outputs": [
        {
          "output_type": "execute_result",
          "data": {
            "text/plain": [
              "ExtraTreesClassifier(bootstrap=False, class_weight=None, criterion='gini',\n",
              "           max_depth=None, max_features='auto', max_leaf_nodes=None,\n",
              "           min_impurity_decrease=0.0, min_impurity_split=None,\n",
              "           min_samples_leaf=1, min_samples_split=2,\n",
              "           min_weight_fraction_leaf=0.0, n_estimators=100, n_jobs=None,\n",
              "           oob_score=False, random_state=None, verbose=0, warm_start=False)"
            ]
          },
          "metadata": {
            "tags": []
          },
          "execution_count": 26
        }
      ]
    },
    {
      "metadata": {
        "id": "oGXEPjWb9m6u",
        "colab_type": "text"
      },
      "cell_type": "markdown",
      "source": [
        "# Feature Extraction with Univariate Statistical Tests (Chi-squared for classification)"
      ]
    },
    {
      "metadata": {
        "id": "C-8RcO0Q9m6v",
        "colab_type": "code",
        "colab": {}
      },
      "cell_type": "code",
      "source": [
        "X_train_chi, X_test_chi, y_train_chi, y_test_chi = get_test_data(train_mean_small,class_mean_small)"
      ],
      "execution_count": 0,
      "outputs": []
    },
    {
      "metadata": {
        "id": "Bcqg5nec9m6x",
        "colab_type": "code",
        "colab": {},
        "outputId": "a351a7b2-3dc0-40ff-906f-e852c921c141"
      },
      "cell_type": "code",
      "source": [
        "from sklearn.feature_selection import SelectKBest\n",
        "from sklearn.feature_selection import chi2\n",
        "\n",
        "feature_sel_kbest_model = SelectKBest(score_func=chi2, k=3)\n",
        "feature_sel_kbest_fit = feature_sel_kbest_model.fit(X_train_chi,  y_train_chi)\n",
        "# summarize scores\n",
        "print(feature_sel_kbest_fit.scores_)\n",
        "features = feature_sel_kbest_fit.transform(X_train_chi)\n",
        "# summarize selected features\n",
        "# print(features[0:5, :])"
      ],
      "execution_count": 0,
      "outputs": [
        {
          "output_type": "stream",
          "text": [
            "[3.21197069e+01 5.74364339e-01 2.66399246e+04 1.44160771e+03\n",
            " 3.61802442e+04 2.37000164e+04 8.85553060e+04 5.99450867e+02\n",
            " 3.64564409e+04 2.11912899e+04 7.05382728e+03 3.43824189e+01\n",
            " 1.14630503e-01 2.10478622e+00 2.07972852e+04 7.93352864e+01\n",
            " 9.31610310e+02 2.56634152e+02 1.91034114e+00 1.73479193e-01\n",
            " 2.20895970e+02 3.93466648e+01 3.71276495e+01 3.91890897e+00\n",
            " 1.84073035e+00 1.25543659e-01 1.92245845e+00 1.40134301e-01\n",
            " 1.90887751e+00]\n"
          ],
          "name": "stdout"
        }
      ]
    },
    {
      "metadata": {
        "id": "IYmPvIQr9m65",
        "colab_type": "text"
      },
      "cell_type": "markdown",
      "source": [
        "# summarize all feature selection in a dataframe"
      ]
    },
    {
      "metadata": {
        "id": "fJ-UWVjM9m66",
        "colab_type": "code",
        "colab": {},
        "outputId": "2e3d644f-b337-4352-bff7-94b599ba2211"
      },
      "cell_type": "code",
      "source": [
        "feature_select_pd = pd.DataFrame(\n",
        "    data={'Support': rfe.support_, 'Ranking': rfe.ranking_, 'Feature Importances': extra_tree_model.feature_importances_,\n",
        "          'Fit Scores': feature_sel_kbest_fit.scores_}, index=list(train_mean_small.iloc[:, :train_mean_small.shape[1] - 1]))\n",
        "feature_select_pd['Fit Scores'] = feature_select_pd['Fit Scores'].astype('int64')\n",
        "feature_select_pd.sort_values(by=['Ranking', 'Fit Scores'])"
      ],
      "execution_count": 0,
      "outputs": [
        {
          "output_type": "execute_result",
          "data": {
            "text/html": [
              "<div>\n",
              "<style scoped>\n",
              "    .dataframe tbody tr th:only-of-type {\n",
              "        vertical-align: middle;\n",
              "    }\n",
              "\n",
              "    .dataframe tbody tr th {\n",
              "        vertical-align: top;\n",
              "    }\n",
              "\n",
              "    .dataframe thead th {\n",
              "        text-align: right;\n",
              "    }\n",
              "</style>\n",
              "<table border=\"1\" class=\"dataframe\">\n",
              "  <thead>\n",
              "    <tr style=\"text-align: right;\">\n",
              "      <th></th>\n",
              "      <th>Support</th>\n",
              "      <th>Ranking</th>\n",
              "      <th>Feature Importances</th>\n",
              "      <th>Fit Scores</th>\n",
              "    </tr>\n",
              "  </thead>\n",
              "  <tbody>\n",
              "    <tr>\n",
              "      <th>maxOnlineStatus</th>\n",
              "      <td>True</td>\n",
              "      <td>1</td>\n",
              "      <td>0.006043</td>\n",
              "      <td>0</td>\n",
              "    </tr>\n",
              "    <tr>\n",
              "      <th>minOnlineStatus</th>\n",
              "      <td>True</td>\n",
              "      <td>1</td>\n",
              "      <td>0.006020</td>\n",
              "      <td>0</td>\n",
              "    </tr>\n",
              "    <tr>\n",
              "      <th>maxAvailability</th>\n",
              "      <td>True</td>\n",
              "      <td>1</td>\n",
              "      <td>0.007661</td>\n",
              "      <td>1</td>\n",
              "    </tr>\n",
              "    <tr>\n",
              "      <th>avgAvailability</th>\n",
              "      <td>True</td>\n",
              "      <td>1</td>\n",
              "      <td>0.007716</td>\n",
              "      <td>1</td>\n",
              "    </tr>\n",
              "    <tr>\n",
              "      <th>minAvailability</th>\n",
              "      <td>True</td>\n",
              "      <td>1</td>\n",
              "      <td>0.007484</td>\n",
              "      <td>1</td>\n",
              "    </tr>\n",
              "    <tr>\n",
              "      <th>availability</th>\n",
              "      <td>True</td>\n",
              "      <td>1</td>\n",
              "      <td>0.007306</td>\n",
              "      <td>2</td>\n",
              "    </tr>\n",
              "    <tr>\n",
              "      <th>countTransact</th>\n",
              "      <td>True</td>\n",
              "      <td>1</td>\n",
              "      <td>0.017596</td>\n",
              "      <td>3</td>\n",
              "    </tr>\n",
              "    <tr>\n",
              "      <th>avgBStep</th>\n",
              "      <td>True</td>\n",
              "      <td>1</td>\n",
              "      <td>0.020965</td>\n",
              "      <td>37</td>\n",
              "    </tr>\n",
              "    <tr>\n",
              "      <th>maxBStep</th>\n",
              "      <td>True</td>\n",
              "      <td>1</td>\n",
              "      <td>0.018591</td>\n",
              "      <td>39</td>\n",
              "    </tr>\n",
              "    <tr>\n",
              "      <th>bCount</th>\n",
              "      <td>True</td>\n",
              "      <td>1</td>\n",
              "      <td>0.055586</td>\n",
              "      <td>599</td>\n",
              "    </tr>\n",
              "    <tr>\n",
              "      <th>address</th>\n",
              "      <td>False</td>\n",
              "      <td>2</td>\n",
              "      <td>0.059764</td>\n",
              "      <td>0</td>\n",
              "    </tr>\n",
              "    <tr>\n",
              "      <th>startWeekday</th>\n",
              "      <td>False</td>\n",
              "      <td>3</td>\n",
              "      <td>0.037162</td>\n",
              "      <td>0</td>\n",
              "    </tr>\n",
              "    <tr>\n",
              "      <th>startHour</th>\n",
              "      <td>False</td>\n",
              "      <td>4</td>\n",
              "      <td>0.063364</td>\n",
              "      <td>32</td>\n",
              "    </tr>\n",
              "    <tr>\n",
              "      <th>bStep</th>\n",
              "      <td>False</td>\n",
              "      <td>5</td>\n",
              "      <td>0.019394</td>\n",
              "      <td>34</td>\n",
              "    </tr>\n",
              "    <tr>\n",
              "      <th>age</th>\n",
              "      <td>False</td>\n",
              "      <td>6</td>\n",
              "      <td>0.031421</td>\n",
              "      <td>1</td>\n",
              "    </tr>\n",
              "    <tr>\n",
              "      <th>cCount</th>\n",
              "      <td>False</td>\n",
              "      <td>7</td>\n",
              "      <td>0.060252</td>\n",
              "      <td>1441</td>\n",
              "    </tr>\n",
              "    <tr>\n",
              "      <th>accountLifetime</th>\n",
              "      <td>False</td>\n",
              "      <td>8</td>\n",
              "      <td>0.039543</td>\n",
              "      <td>931</td>\n",
              "    </tr>\n",
              "    <tr>\n",
              "      <th>cMinPrice</th>\n",
              "      <td>False</td>\n",
              "      <td>9</td>\n",
              "      <td>0.058310</td>\n",
              "      <td>36180</td>\n",
              "    </tr>\n",
              "    <tr>\n",
              "      <th>bMaxPrice</th>\n",
              "      <td>False</td>\n",
              "      <td>10</td>\n",
              "      <td>0.055535</td>\n",
              "      <td>21191</td>\n",
              "    </tr>\n",
              "    <tr>\n",
              "      <th>bMinPrice</th>\n",
              "      <td>False</td>\n",
              "      <td>11</td>\n",
              "      <td>0.059589</td>\n",
              "      <td>36456</td>\n",
              "    </tr>\n",
              "    <tr>\n",
              "      <th>onlineStatus</th>\n",
              "      <td>False</td>\n",
              "      <td>12</td>\n",
              "      <td>0.005460</td>\n",
              "      <td>0</td>\n",
              "    </tr>\n",
              "    <tr>\n",
              "      <th>lastOrder</th>\n",
              "      <td>False</td>\n",
              "      <td>13</td>\n",
              "      <td>0.032103</td>\n",
              "      <td>220</td>\n",
              "    </tr>\n",
              "    <tr>\n",
              "      <th>customerScore</th>\n",
              "      <td>False</td>\n",
              "      <td>14</td>\n",
              "      <td>0.035052</td>\n",
              "      <td>79</td>\n",
              "    </tr>\n",
              "    <tr>\n",
              "      <th>payments</th>\n",
              "      <td>False</td>\n",
              "      <td>15</td>\n",
              "      <td>0.028217</td>\n",
              "      <td>256</td>\n",
              "    </tr>\n",
              "    <tr>\n",
              "      <th>cSumPrice</th>\n",
              "      <td>False</td>\n",
              "      <td>16</td>\n",
              "      <td>0.056230</td>\n",
              "      <td>88555</td>\n",
              "    </tr>\n",
              "    <tr>\n",
              "      <th>duration</th>\n",
              "      <td>False</td>\n",
              "      <td>17</td>\n",
              "      <td>0.061034</td>\n",
              "      <td>26639</td>\n",
              "    </tr>\n",
              "    <tr>\n",
              "      <th>bSumPrice</th>\n",
              "      <td>False</td>\n",
              "      <td>18</td>\n",
              "      <td>0.056056</td>\n",
              "      <td>7053</td>\n",
              "    </tr>\n",
              "    <tr>\n",
              "      <th>maxVal</th>\n",
              "      <td>False</td>\n",
              "      <td>19</td>\n",
              "      <td>0.030898</td>\n",
              "      <td>20797</td>\n",
              "    </tr>\n",
              "    <tr>\n",
              "      <th>cMaxPrice</th>\n",
              "      <td>False</td>\n",
              "      <td>20</td>\n",
              "      <td>0.055648</td>\n",
              "      <td>23700</td>\n",
              "    </tr>\n",
              "  </tbody>\n",
              "</table>\n",
              "</div>"
            ],
            "text/plain": [
              "                 Support  Ranking  Feature Importances  Fit Scores\n",
              "maxOnlineStatus     True        1             0.006043           0\n",
              "minOnlineStatus     True        1             0.006020           0\n",
              "maxAvailability     True        1             0.007661           1\n",
              "avgAvailability     True        1             0.007716           1\n",
              "minAvailability     True        1             0.007484           1\n",
              "availability        True        1             0.007306           2\n",
              "countTransact       True        1             0.017596           3\n",
              "avgBStep            True        1             0.020965          37\n",
              "maxBStep            True        1             0.018591          39\n",
              "bCount              True        1             0.055586         599\n",
              "address            False        2             0.059764           0\n",
              "startWeekday       False        3             0.037162           0\n",
              "startHour          False        4             0.063364          32\n",
              "bStep              False        5             0.019394          34\n",
              "age                False        6             0.031421           1\n",
              "cCount             False        7             0.060252        1441\n",
              "accountLifetime    False        8             0.039543         931\n",
              "cMinPrice          False        9             0.058310       36180\n",
              "bMaxPrice          False       10             0.055535       21191\n",
              "bMinPrice          False       11             0.059589       36456\n",
              "onlineStatus       False       12             0.005460           0\n",
              "lastOrder          False       13             0.032103         220\n",
              "customerScore      False       14             0.035052          79\n",
              "payments           False       15             0.028217         256\n",
              "cSumPrice          False       16             0.056230       88555\n",
              "duration           False       17             0.061034       26639\n",
              "bSumPrice          False       18             0.056056        7053\n",
              "maxVal             False       19             0.030898       20797\n",
              "cMaxPrice          False       20             0.055648       23700"
            ]
          },
          "metadata": {
            "tags": []
          },
          "execution_count": 32
        }
      ]
    },
    {
      "metadata": {
        "id": "mXhYkJL99m69",
        "colab_type": "text"
      },
      "cell_type": "markdown",
      "source": [
        "# Visualize the results"
      ]
    },
    {
      "metadata": {
        "id": "1vE9y6Ny9m6-",
        "colab_type": "code",
        "colab": {},
        "outputId": "28b043a5-df13-4683-aeca-45ae607f805f"
      },
      "cell_type": "code",
      "source": [
        "import matplotlib.pyplot as plt\n",
        "feature_select_objects = feature_select_pd.index.values\n",
        "y_pos = np.arange(len(feature_select_objects))\n",
        "performance = feature_select_pd['Ranking'].sort_values(ascending=False)\n",
        "\n",
        "plt.barh(y_pos, performance, align='center', alpha=0.5)\n",
        "plt.yticks(y_pos, feature_select_objects)\n",
        "plt.xlabel('Ranking')\n",
        "plt.title('Feature selection results')\n",
        "\n",
        "plt.show()"
      ],
      "execution_count": 0,
      "outputs": [
        {
          "output_type": "display_data",
          "data": {
            "image/png": "[encoded data removed]",
            "text/plain": [
              "<Figure size 432x288 with 1 Axes>"
            ]
          },
          "metadata": {
            "tags": [],
            "needs_background": "light"
          }
        }
      ]
    }
  ]
}